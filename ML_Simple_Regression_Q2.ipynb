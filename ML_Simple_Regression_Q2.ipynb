{
  "nbformat": 4,
  "nbformat_minor": 0,
  "metadata": {
    "colab": {
      "provenance": [],
      "authorship_tag": "ABX9TyM51d7lt2T0ia0c40YPg9Gq",
      "include_colab_link": true
    },
    "kernelspec": {
      "name": "python3",
      "display_name": "Python 3"
    },
    "language_info": {
      "name": "python"
    }
  },
  "cells": [
    {
      "cell_type": "markdown",
      "metadata": {
        "id": "view-in-github",
        "colab_type": "text"
      },
      "source": [
        "<a href=\"https://colab.research.google.com/github/Hemanth-724/Employee-Management-system/blob/main/ML_Simple_Regression_Q2.ipynb\" target=\"_parent\"><img src=\"https://colab.research.google.com/assets/colab-badge.svg\" alt=\"Open In Colab\"/></a>"
      ]
    },
    {
      "cell_type": "code",
      "execution_count": 1,
      "metadata": {
        "id": "x2ryvNBhjHjR"
      },
      "outputs": [],
      "source": [
        "import numpy as np\n",
        "import pandas as pd\n",
        "from sklearn.model_selection import train_test_split\n",
        "from sklearn.preprocessing import StandardScaler\n",
        "import matplotlib.pyplot as plt"
      ]
    },
    {
      "cell_type": "code",
      "source": [
        "data_url = \"http://lib.stat.cmu.edu/datasets/boston\"\n",
        "raw_df = pd.read_csv(data_url, sep=\"\\s+\", skiprows=22, header=None)\n",
        "data = np.hstack([raw_df.values[::2, :], raw_df.values[1::2, :2]])\n",
        "target = raw_df.values[1::2, 2]"
      ],
      "metadata": {
        "id": "UZp6Pn0zjil5"
      },
      "execution_count": 2,
      "outputs": []
    },
    {
      "cell_type": "code",
      "source": [
        "df = pd.DataFrame(data=data, columns=['CRIM', 'ZN', 'INDUS', 'CHAS', 'NOX', 'RM', 'AGE', 'DIS', 'RAD', 'TAX', 'PTRATIO', 'B', 'LSTAT'])\n",
        "df['PRICE'] = target\n",
        ""
      ],
      "metadata": {
        "id": "CCUPn0HXjm1E"
      },
      "execution_count": 3,
      "outputs": []
    },
    {
      "cell_type": "code",
      "source": [
        "correlation_matrix = df.corr()\n",
        "print(\"Correlation Matrix:\\n\", correlation_matrix['PRICE'])\n",
        ""
      ],
      "metadata": {
        "colab": {
          "base_uri": "https://localhost:8080/"
        },
        "id": "47lvNwhujsU9",
        "outputId": "69d30876-2d69-4b87-f5f7-4b2b1602d4ea"
      },
      "execution_count": 4,
      "outputs": [
        {
          "output_type": "stream",
          "name": "stdout",
          "text": [
            "Correlation Matrix:\n",
            " CRIM      -0.388305\n",
            "ZN         0.360445\n",
            "INDUS     -0.483725\n",
            "CHAS       0.175260\n",
            "NOX       -0.427321\n",
            "RM         0.695360\n",
            "AGE       -0.376955\n",
            "DIS        0.249929\n",
            "RAD       -0.381626\n",
            "TAX       -0.468536\n",
            "PTRATIO   -0.507787\n",
            "B          0.333461\n",
            "LSTAT     -0.737663\n",
            "PRICE      1.000000\n",
            "Name: PRICE, dtype: float64\n"
          ]
        }
      ]
    }
  ]
}