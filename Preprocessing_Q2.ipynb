{
  "nbformat": 4,
  "nbformat_minor": 0,
  "metadata": {
    "colab": {
      "provenance": [],
      "authorship_tag": "ABX9TyO4YTbCZItwr+n0sy4ytaSK",
      "include_colab_link": true
    },
    "kernelspec": {
      "name": "python3",
      "display_name": "Python 3"
    },
    "language_info": {
      "name": "python"
    }
  },
  "cells": [
    {
      "cell_type": "markdown",
      "metadata": {
        "id": "view-in-github",
        "colab_type": "text"
      },
      "source": [
        "<a href=\"https://colab.research.google.com/github/Hemanth-724/Employee-Management-system/blob/main/Preprocessing_Q2.ipynb\" target=\"_parent\"><img src=\"https://colab.research.google.com/assets/colab-badge.svg\" alt=\"Open In Colab\"/></a>"
      ]
    },
    {
      "cell_type": "code",
      "execution_count": 1,
      "metadata": {
        "id": "yQXhxoW13tPZ"
      },
      "outputs": [],
      "source": [
        "\n",
        "import numpy as np\n",
        "\n",
        "M = 10\n",
        "vector_x = np.array([12, 5, 9, 18, 22, 35, 44, 28, 13, 17])\n",
        "vector_y = np.array([14, 7, 11, 20, 25, 38, 42, 30, 16, 19])"
      ]
    },
    {
      "cell_type": "code",
      "source": [
        "mean_x = np.mean(vector_x)\n",
        "mean_y = np.mean(vector_y)\n",
        ""
      ],
      "metadata": {
        "id": "OCvSX2-A316U"
      },
      "execution_count": 2,
      "outputs": []
    },
    {
      "cell_type": "code",
      "source": [
        "covariance = np.sum((vector_x - mean_x) * (vector_y - mean_y)) / (M - 1)\n",
        "\n"
      ],
      "metadata": {
        "id": "cEVLaW4D4ARL"
      },
      "execution_count": 3,
      "outputs": []
    },
    {
      "cell_type": "code",
      "source": [
        "print(f'Vector X (1x{M} vector): {vector_x}')\n",
        "print(f'Vector Y (1x{M} vector): {vector_y}')\n",
        "print(f'Covariance: {covariance:.4f}')\n",
        "\n",
        "\n"
      ],
      "metadata": {
        "colab": {
          "base_uri": "https://localhost:8080/"
        },
        "id": "BhKC-eKX4DXr",
        "outputId": "90356218-5a15-4ea3-e0fe-a8dea2a0169f"
      },
      "execution_count": 4,
      "outputs": [
        {
          "output_type": "stream",
          "name": "stdout",
          "text": [
            "Vector X (1x10 vector): [12  5  9 18 22 35 44 28 13 17]\n",
            "Vector Y (1x10 vector): [14  7 11 20 25 38 42 30 16 19]\n",
            "Covariance: 139.3778\n"
          ]
        }
      ]
    }
  ]
}