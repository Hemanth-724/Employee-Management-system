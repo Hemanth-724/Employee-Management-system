{
  "nbformat": 4,
  "nbformat_minor": 0,
  "metadata": {
    "colab": {
      "provenance": [],
      "authorship_tag": "ABX9TyM5YfIgzKZ26Eioc65Duyqp",
      "include_colab_link": true
    },
    "kernelspec": {
      "name": "python3",
      "display_name": "Python 3"
    },
    "language_info": {
      "name": "python"
    }
  },
  "cells": [
    {
      "cell_type": "markdown",
      "metadata": {
        "id": "view-in-github",
        "colab_type": "text"
      },
      "source": [
        "<a href=\"https://colab.research.google.com/github/Hemanth-724/Employee-Management-system/blob/main/Untitled20.ipynb\" target=\"_parent\"><img src=\"https://colab.research.google.com/assets/colab-badge.svg\" alt=\"Open In Colab\"/></a>"
      ]
    },
    {
      "cell_type": "code",
      "execution_count": 3,
      "metadata": {
        "colab": {
          "base_uri": "https://localhost:8080/"
        },
        "id": "IJtrzx4sZpIz",
        "outputId": "1434a55b-4d61-4bed-e7e8-5893e748d3d3"
      },
      "outputs": [
        {
          "output_type": "stream",
          "name": "stdout",
          "text": [
            "and gate - weights: [0.3830536  0.09589141] threshold: 0.4199694421863892\n",
            "or gate - weights: [0.42127793 0.97534161] threshold: 0.2670425275092605\n",
            "not gate - weights: [-0.06672031] threshold: -0.027265084920792687\n",
            "nand gate - weights: [-0.10177111 -0.19781196] threshold: -0.21165131905491355\n",
            "nor gate - weights: [-0.07695509 -0.11493662] threshold: -0.07518898787090311\n",
            "and(1, 1): 1\n",
            "and(1, 0): 0\n",
            "or(1, 0): 1\n",
            "or(0, 0): 0\n",
            "not(1): 0\n",
            "not(0): 1\n",
            "nand(1, 1): 0\n",
            "nand(1, 0): 1\n",
            "nor(0, 0): 1\n",
            "nor(1, 0): 0\n"
          ]
        }
      ],
      "source": [
        "import numpy as np\n",
        "\n",
        "def train_perceptron(training_data, epochs=10000, lr=0.1):\n",
        "    num_inputs = len(training_data[0][0])\n",
        "    w = np.random.rand(num_inputs)\n",
        "    t = np.random.rand()\n",
        "\n",
        "    for epoch in range(epochs):\n",
        "        for inputs, expected_output in training_data:\n",
        "            weighted_sum = np.dot(inputs, w) - t\n",
        "            output = 1 if weighted_sum >= 0 else 0\n",
        "            error = expected_output - output\n",
        "            w += lr * error * np.array(inputs)\n",
        "            t -= lr * error\n",
        "\n",
        "    return w, t\n",
        "\n",
        "\n",
        "and_data = [\n",
        "    ([1, 1], 1),\n",
        "    ([1, 0], 0),\n",
        "    ([0, 1], 0),\n",
        "    ([0, 0], 0)\n",
        "]\n",
        "\n",
        "or_data = [\n",
        "    ([1, 1], 1),\n",
        "    ([1, 0], 1),\n",
        "    ([0, 1], 1),\n",
        "    ([0, 0], 0)\n",
        "]\n",
        "\n",
        "not_data = [\n",
        "    ([1], 0),\n",
        "    ([0], 1)\n",
        "]\n",
        "\n",
        "nand_data = [\n",
        "    ([1, 1], 0),\n",
        "    ([1, 0], 1),\n",
        "    ([0, 1], 1),\n",
        "    ([0, 0], 1)\n",
        "]\n",
        "\n",
        "nor_data = [\n",
        "    ([1, 1], 0),\n",
        "    ([1, 0], 0),\n",
        "    ([0, 1], 0),\n",
        "    ([0, 0], 1)\n",
        "]\n",
        "\n",
        "\n",
        "and_w, and_t = train_perceptron(and_data)\n",
        "or_w, or_t = train_perceptron(or_data)\n",
        "not_w, not_t = train_perceptron(not_data)\n",
        "nand_w, nand_t = train_perceptron(nand_data)\n",
        "nor_w, nor_t = train_perceptron(nor_data)\n",
        "\n",
        "print(\"and gate - weights:\", and_w, \"threshold:\", and_t)\n",
        "print(\"or gate - weights:\", or_w, \"threshold:\", or_t)\n",
        "print(\"not gate - weights:\", not_w, \"threshold:\", not_t)\n",
        "print(\"nand gate - weights:\", nand_w, \"threshold:\", nand_t)\n",
        "print(\"nor gate - weights:\", nor_w, \"threshold:\", nor_t)\n",
        "\n",
        "def perceptron_output(inputs, w, t):\n",
        "    weighted_sum = np.dot(inputs, w) - t\n",
        "    return 1 if weighted_sum >= 0 else 0\n",
        "\n",
        "print(\"and(1, 1):\", perceptron_output([1, 1], and_w, and_t))\n",
        "print(\"and(1, 0):\", perceptron_output([1, 0], and_w, and_t))\n",
        "print(\"or(1, 0):\", perceptron_output([1, 0], or_w, or_t))\n",
        "print(\"or(0, 0):\", perceptron_output([0, 0], or_w, or_t))\n",
        "print(\"not(1):\", perceptron_output([1], not_w, not_t))\n",
        "print(\"not(0):\", perceptron_output([0], not_w, not_t))\n",
        "print(\"nand(1, 1):\", perceptron_output([1, 1], nand_w, nand_t))\n",
        "print(\"nand(1, 0):\", perceptron_output([1, 0], nand_w, nand_t))\n",
        "print(\"nor(0, 0):\", perceptron_output([0, 0], nor_w, nor_t))\n",
        "print(\"nor(1, 0):\", perceptron_output([1, 0], nor_w, nor_t))\n",
        "\n"
      ]
    },
    {
      "cell_type": "code",
      "source": [
        "\n",
        "\n",
        "\n",
        "\n",
        "\n",
        "\n",
        "def xor(x1, x2):\n",
        "    or_out = 1 if np.dot([x1, x2], or_w) >= or_t else 0\n",
        "    nand_out = 1 if np.dot([x1, x2], nand_w) >= nand_t else 0\n",
        "    xor_out = 1 if np.dot([or_out, nand_out], and_w) >= and_t else 0\n",
        "    return xor_out\n",
        "\n",
        "print(\"\\ntesting xor gate with calculated weights and thresholds:\")\n",
        "print(\"xor(0, 0):\", xor(0, 0))\n",
        "print(\"xor(0, 1):\", xor(0, 1))\n",
        "print(\"xor(1, 0):\", xor(1, 0))\n",
        "print(\"xor(1, 1):\", xor(1, 1))\n"
      ],
      "metadata": {
        "colab": {
          "base_uri": "https://localhost:8080/"
        },
        "id": "Hlptjak_Z_0q",
        "outputId": "f094c74e-77c3-4268-88e4-fb7536aa6f86"
      },
      "execution_count": 4,
      "outputs": [
        {
          "output_type": "stream",
          "name": "stdout",
          "text": [
            "\n",
            "testing xor gate with calculated weights and thresholds:\n",
            "xor(0, 0): 0\n",
            "xor(0, 1): 1\n",
            "xor(1, 0): 1\n",
            "xor(1, 1): 0\n"
          ]
        }
      ]
    }
  ]
}