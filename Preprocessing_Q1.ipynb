{
  "nbformat": 4,
  "nbformat_minor": 0,
  "metadata": {
    "colab": {
      "provenance": [],
      "authorship_tag": "ABX9TyMkeeqIDrVhFag895muXnfJ",
      "include_colab_link": true
    },
    "kernelspec": {
      "name": "python3",
      "display_name": "Python 3"
    },
    "language_info": {
      "name": "python"
    }
  },
  "cells": [
    {
      "cell_type": "markdown",
      "metadata": {
        "id": "view-in-github",
        "colab_type": "text"
      },
      "source": [
        "<a href=\"https://colab.research.google.com/github/Hemanth-724/Employee-Management-system/blob/main/Preprocessing_Q1.ipynb\" target=\"_parent\"><img src=\"https://colab.research.google.com/assets/colab-badge.svg\" alt=\"Open In Colab\"/></a>"
      ]
    },
    {
      "cell_type": "code",
      "execution_count": 1,
      "metadata": {
        "id": "igNAvHUs4pXU"
      },
      "outputs": [],
      "source": [
        "import numpy as np\n",
        "N = 10\n",
        "vector = np.array([1, 2, 3, 4, 5, 6, 7, 8, 9, 10])"
      ]
    },
    {
      "cell_type": "code",
      "source": [
        "mean = np.mean(vector)"
      ],
      "metadata": {
        "id": "wnI2ThR94-WE"
      },
      "execution_count": 2,
      "outputs": []
    },
    {
      "cell_type": "code",
      "source": [
        "sample_variance = np.var(vector, ddof=1)"
      ],
      "metadata": {
        "id": "2QAc3OI05BQV"
      },
      "execution_count": 3,
      "outputs": []
    },
    {
      "cell_type": "code",
      "source": [
        "population_variance = np.var(vector)\n"
      ],
      "metadata": {
        "id": "5mQl7y1l5Eqm"
      },
      "execution_count": 4,
      "outputs": []
    },
    {
      "cell_type": "code",
      "source": [
        "print(f'Array (1x{N} vector): {vector}')\n",
        "print(f'Mean: {mean:.4f}')\n",
        "print(f'Sample Variance): {sample_variance:.4f}')\n",
        "print(f'Population Variance: {population_variance:.4f}')\n"
      ],
      "metadata": {
        "id": "i2sU_iw95IXo",
        "outputId": "c984c278-192a-46b8-ce10-6338a3751b12",
        "colab": {
          "base_uri": "https://localhost:8080/"
        }
      },
      "execution_count": 5,
      "outputs": [
        {
          "output_type": "stream",
          "name": "stdout",
          "text": [
            "Array (1x10 vector): [ 1  2  3  4  5  6  7  8  9 10]\n",
            "Mean: 5.5000\n",
            "Sample Variance): 9.1667\n",
            "Population Variance: 8.2500\n"
          ]
        }
      ]
    }
  ]
}