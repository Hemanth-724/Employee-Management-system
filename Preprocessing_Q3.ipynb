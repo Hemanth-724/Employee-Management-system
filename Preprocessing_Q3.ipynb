{
  "nbformat": 4,
  "nbformat_minor": 0,
  "metadata": {
    "colab": {
      "provenance": [],
      "authorship_tag": "ABX9TyPRtLTliRjfvAZS7/AAmurb",
      "include_colab_link": true
    },
    "kernelspec": {
      "name": "python3",
      "display_name": "Python 3"
    },
    "language_info": {
      "name": "python"
    }
  },
  "cells": [
    {
      "cell_type": "markdown",
      "metadata": {
        "id": "view-in-github",
        "colab_type": "text"
      },
      "source": [
        "<a href=\"https://colab.research.google.com/github/Hemanth-724/Employee-Management-system/blob/main/Preprocessing_Q3.ipynb\" target=\"_parent\"><img src=\"https://colab.research.google.com/assets/colab-badge.svg\" alt=\"Open In Colab\"/></a>"
      ]
    },
    {
      "cell_type": "code",
      "execution_count": 1,
      "metadata": {
        "id": "VEyCmg0p5vqB"
      },
      "outputs": [],
      "source": [
        "import numpy as np\n",
        "\n",
        "N = 10\n",
        "vector_x = np.array([10, 12, 18, 22, 29, 33, 37, 41, 25, 19])\n",
        "vector_y = np.array([8, 11, 17, 23, 28, 32, 35, 39, 22, 16])"
      ]
    },
    {
      "cell_type": "code",
      "source": [
        "mean_x = np.mean(vector_x)\n",
        "mean_y = np.mean(vector_y)\n",
        ""
      ],
      "metadata": {
        "id": "97pgHynp5-Ku"
      },
      "execution_count": 2,
      "outputs": []
    },
    {
      "cell_type": "code",
      "source": [
        "covariance = np.sum((vector_x - mean_x) * (vector_y - mean_y)) / (N - 1)\n",
        "\n"
      ],
      "metadata": {
        "id": "keIaQY0o6Eqg"
      },
      "execution_count": 3,
      "outputs": []
    },
    {
      "cell_type": "code",
      "source": [
        "\n",
        "variance_x = np.var(vector_x, ddof=1)\n",
        "variance_y = np.var(vector_y, ddof=1)"
      ],
      "metadata": {
        "id": "EDoYF5G96JPq"
      },
      "execution_count": 4,
      "outputs": []
    },
    {
      "cell_type": "code",
      "source": [
        "correlation = covariance / np.sqrt(variance_x * variance_y)"
      ],
      "metadata": {
        "id": "RFo0-93E6K2a"
      },
      "execution_count": 5,
      "outputs": []
    },
    {
      "cell_type": "code",
      "source": [
        "print(f'Vector X (1x{N} vector): {vector_x}')\n",
        "print(f'Vector Y (1x{N} vector): {vector_y}')\n",
        "print(f'Correlation: {correlation:.4f}')\n",
        ""
      ],
      "metadata": {
        "colab": {
          "base_uri": "https://localhost:8080/"
        },
        "id": "hdkEkU2H6Ns_",
        "outputId": "036ffcac-82cc-4bf1-9fce-dc0877b44451"
      },
      "execution_count": 6,
      "outputs": [
        {
          "output_type": "stream",
          "name": "stdout",
          "text": [
            "Vector X (1x10 vector): [10 12 18 22 29 33 37 41 25 19]\n",
            "Vector Y (1x10 vector): [ 8 11 17 23 28 32 35 39 22 16]\n",
            "Correlation: 0.9935\n"
          ]
        }
      ]
    }
  ]
}